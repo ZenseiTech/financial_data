{
  "cells": [
    {
      "cell_type": "markdown",
      "metadata": {},
      "source": [
        "### Pandas vs Dask vs DuckDB"
      ]
    },
    {
      "cell_type": "code",
      "execution_count": 9,
      "metadata": {},
      "outputs": [],
      "source": [
        "import pandas as pd\n",
        "import dask.dataframe as dd\n",
        "import numpy as np\n",
        "import duckdb\n",
        "import polars as pl\n",
        "import pyarrow"
      ]
    },
    {
      "cell_type": "markdown",
      "metadata": {},
      "source": [
        "### Create csv file"
      ]
    },
    {
      "cell_type": "code",
      "execution_count": 10,
      "metadata": {},
      "outputs": [],
      "source": [
        "pd.DataFrame({\n",
        "               'A': np.random.randint(0, 100, size=20000000),\n",
        "               'B': np.random.randint(0, 100, size=20000000),\n",
        "               'C': np.random.randint(0, 100, size=20000000),\n",
        "              }).to_csv('dataset.csv', index=False)"
      ]
    },
    {
      "cell_type": "markdown",
      "metadata": {},
      "source": [
        "### Pandas read csv file"
      ]
    },
    {
      "cell_type": "code",
      "execution_count": 20,
      "metadata": {},
      "outputs": [
        {
          "name": "stdout",
          "output_type": "stream",
          "text": [
            "Pandas: shape = (20000000, 3)\n",
            "CPU times: user 2.37 s, sys: 876 ms, total: 3.24 s\n",
            "Wall time: 325 ms\n"
          ]
        }
      ],
      "source": [
        "%%time\n",
        "df = pd.read_csv('dataset.csv', engine='pyarrow')\n",
        "print(f\"Pandas: shape = {df.shape}\")"
      ]
    },
    {
      "cell_type": "markdown",
      "metadata": {},
      "source": [
        "### Dask read csv file"
      ]
    },
    {
      "cell_type": "code",
      "execution_count": 19,
      "metadata": {},
      "outputs": [
        {
          "name": "stdout",
          "output_type": "stream",
          "text": [
            "Dask: shape = (20000000, 3)\n",
            "CPU times: user 1.49 s, sys: 432 ms, total: 1.92 s\n",
            "Wall time: 1.09 s\n"
          ]
        }
      ],
      "source": [
        "%%time\n",
        "dask_df = dd.read_csv('dataset.csv')\n",
        "print(f\"Dask: shape = {dask_df.compute().shape}\")"
      ]
    },
    {
      "cell_type": "markdown",
      "metadata": {},
      "source": [
        "### Polars read csv file"
      ]
    },
    {
      "cell_type": "code",
      "execution_count": 21,
      "metadata": {},
      "outputs": [
        {
          "name": "stdout",
          "output_type": "stream",
          "text": [
            "Polars: shape = (20000000, 3)\n",
            "CPU times: user 1.99 s, sys: 482 ms, total: 2.48 s\n",
            "Wall time: 248 ms\n"
          ]
        }
      ],
      "source": [
        "%%time\n",
        "polars_df = pl.read_csv('dataset.csv')\n",
        "print(f\"Polars: shape = {polars_df.shape}\")"
      ]
    },
    {
      "cell_type": "code",
      "execution_count": 22,
      "metadata": {},
      "outputs": [
        {
          "name": "stdout",
          "output_type": "stream",
          "text": [
            "CPU times: user 23.1 ms, sys: 40.4 ms, total: 63.5 ms\n",
            "Wall time: 640 ms\n"
          ]
        },
        {
          "data": {
            "text/plain": [
              "\u250c\u2500\u2500\u2500\u2500\u2500\u2500\u2500\u2500\u252c\u2500\u2500\u2500\u2500\u2500\u2500\u2500\u252c\u2500\u2500\u2500\u2500\u2500\u2500\u2500\u2510\n",
              "\u2502   A    \u2502   B   \u2502   C   \u2502\n",
              "\u2502 int64  \u2502 int64 \u2502 int64 \u2502\n",
              "\u251c\u2500\u2500\u2500\u2500\u2500\u2500\u2500\u2500\u253c\u2500\u2500\u2500\u2500\u2500\u2500\u2500\u253c\u2500\u2500\u2500\u2500\u2500\u2500\u2500\u2524\n",
              "\u2502     23 \u2502    98 \u2502    61 \u2502\n",
              "\u2502     35 \u2502    19 \u2502    97 \u2502\n",
              "\u2502      0 \u2502    22 \u2502    67 \u2502\n",
              "\u2502     47 \u2502    52 \u2502    95 \u2502\n",
              "\u2502     17 \u2502    72 \u2502    90 \u2502\n",
              "\u2502     91 \u2502    22 \u2502     3 \u2502\n",
              "\u2502     17 \u2502    44 \u2502    61 \u2502\n",
              "\u2502     19 \u2502    95 \u2502    19 \u2502\n",
              "\u2502     59 \u2502    50 \u2502    29 \u2502\n",
              "\u2502     71 \u2502    77 \u2502    96 \u2502\n",
              "\u2502      \u00b7 \u2502     \u00b7 \u2502     \u00b7 \u2502\n",
              "\u2502      \u00b7 \u2502     \u00b7 \u2502     \u00b7 \u2502\n",
              "\u2502      \u00b7 \u2502     \u00b7 \u2502     \u00b7 \u2502\n",
              "\u2502     66 \u2502    17 \u2502    72 \u2502\n",
              "\u2502     59 \u2502    60 \u2502    33 \u2502\n",
              "\u2502      0 \u2502    37 \u2502    52 \u2502\n",
              "\u2502      8 \u2502    63 \u2502    88 \u2502\n",
              "\u2502     84 \u2502    18 \u2502    88 \u2502\n",
              "\u2502     31 \u2502    19 \u2502    84 \u2502\n",
              "\u2502     90 \u2502    29 \u2502    85 \u2502\n",
              "\u2502     63 \u2502    74 \u2502    59 \u2502\n",
              "\u2502      8 \u2502    92 \u2502    24 \u2502\n",
              "\u2502     76 \u2502    14 \u2502    57 \u2502\n",
              "\u251c\u2500\u2500\u2500\u2500\u2500\u2500\u2500\u2500\u2534\u2500\u2500\u2500\u2500\u2500\u2500\u2500\u2534\u2500\u2500\u2500\u2500\u2500\u2500\u2500\u2524\n",
              "\u2502 ? rows       3 columns \u2502\n",
              "\u2514\u2500\u2500\u2500\u2500\u2500\u2500\u2500\u2500\u2500\u2500\u2500\u2500\u2500\u2500\u2500\u2500\u2500\u2500\u2500\u2500\u2500\u2500\u2500\u2500\u2518"
            ]
          },
          "execution_count": 22,
          "metadata": {},
          "output_type": "execute_result"
        }
      ],
      "source": [
        "%%time\n",
        "# duckdb.read_csv('dataset.csv')\n",
        "duckdb.query(\"\"\"SELECT * FROM read_csv('dataset.csv');\"\"\")"
      ]
    },
    {
      "cell_type": "code",
      "execution_count": 14,
      "metadata": {},
      "outputs": [
        {
          "name": "stdout",
          "output_type": "stream",
          "text": [
            "CPU times: user 501 ms, sys: 180 ms, total: 681 ms\n",
            "Wall time: 800 ms\n"
          ]
        },
        {
          "data": {
            "text/html": [
              "<div>\n",
              "<style scoped>\n",
              "    .dataframe tbody tr th:only-of-type {\n",
              "        vertical-align: middle;\n",
              "    }\n",
              "\n",
              "    .dataframe tbody tr th {\n",
              "        vertical-align: top;\n",
              "    }\n",
              "\n",
              "    .dataframe thead th {\n",
              "        text-align: right;\n",
              "    }\n",
              "</style>\n",
              "<table border=\"1\" class=\"dataframe\">\n",
              "  <thead>\n",
              "    <tr style=\"text-align: right;\">\n",
              "      <th></th>\n",
              "      <th></th>\n",
              "      <th>C</th>\n",
              "    </tr>\n",
              "    <tr>\n",
              "      <th>A</th>\n",
              "      <th>B</th>\n",
              "      <th></th>\n",
              "    </tr>\n",
              "  </thead>\n",
              "  <tbody>\n",
              "    <tr>\n",
              "      <th rowspan=\"5\" valign=\"top\">0</th>\n",
              "      <th>0</th>\n",
              "      <td>100760</td>\n",
              "    </tr>\n",
              "    <tr>\n",
              "      <th>1</th>\n",
              "      <td>96378</td>\n",
              "    </tr>\n",
              "    <tr>\n",
              "      <th>2</th>\n",
              "      <td>98186</td>\n",
              "    </tr>\n",
              "    <tr>\n",
              "      <th>3</th>\n",
              "      <td>100660</td>\n",
              "    </tr>\n",
              "    <tr>\n",
              "      <th>4</th>\n",
              "      <td>101088</td>\n",
              "    </tr>\n",
              "  </tbody>\n",
              "</table>\n",
              "</div>"
            ],
            "text/plain": [
              "          C\n",
              "A B        \n",
              "0 0  100760\n",
              "  1   96378\n",
              "  2   98186\n",
              "  3  100660\n",
              "  4  101088"
            ]
          },
          "execution_count": 14,
          "metadata": {},
          "output_type": "execute_result"
        }
      ],
      "source": [
        "%%time\n",
        "pandas_grouped = df.groupby(['A', 'B']).agg({'C': 'sum'})\n",
        "pandas_grouped.head()"
      ]
    },
    {
      "cell_type": "code",
      "execution_count": 15,
      "metadata": {},
      "outputs": [
        {
          "name": "stdout",
          "output_type": "stream",
          "text": [
            "CPU times: user 807 ms, sys: 136 ms, total: 943 ms\n",
            "Wall time: 969 ms\n"
          ]
        },
        {
          "data": {
            "text/html": [
              "<div>\n",
              "<style scoped>\n",
              "    .dataframe tbody tr th:only-of-type {\n",
              "        vertical-align: middle;\n",
              "    }\n",
              "\n",
              "    .dataframe tbody tr th {\n",
              "        vertical-align: top;\n",
              "    }\n",
              "\n",
              "    .dataframe thead th {\n",
              "        text-align: right;\n",
              "    }\n",
              "</style>\n",
              "<table border=\"1\" class=\"dataframe\">\n",
              "  <thead>\n",
              "    <tr style=\"text-align: right;\">\n",
              "      <th></th>\n",
              "      <th>A</th>\n",
              "      <th>B</th>\n",
              "      <th>C</th>\n",
              "    </tr>\n",
              "  </thead>\n",
              "  <tbody>\n",
              "    <tr>\n",
              "      <th>0</th>\n",
              "      <td>23</td>\n",
              "      <td>98</td>\n",
              "      <td>61</td>\n",
              "    </tr>\n",
              "    <tr>\n",
              "      <th>1</th>\n",
              "      <td>35</td>\n",
              "      <td>19</td>\n",
              "      <td>97</td>\n",
              "    </tr>\n",
              "    <tr>\n",
              "      <th>2</th>\n",
              "      <td>0</td>\n",
              "      <td>22</td>\n",
              "      <td>67</td>\n",
              "    </tr>\n",
              "    <tr>\n",
              "      <th>3</th>\n",
              "      <td>47</td>\n",
              "      <td>52</td>\n",
              "      <td>95</td>\n",
              "    </tr>\n",
              "    <tr>\n",
              "      <th>4</th>\n",
              "      <td>17</td>\n",
              "      <td>72</td>\n",
              "      <td>90</td>\n",
              "    </tr>\n",
              "  </tbody>\n",
              "</table>\n",
              "</div>"
            ],
            "text/plain": [
              "    A   B   C\n",
              "0  23  98  61\n",
              "1  35  19  97\n",
              "2   0  22  67\n",
              "3  47  52  95\n",
              "4  17  72  90"
            ]
          },
          "execution_count": 15,
          "metadata": {},
          "output_type": "execute_result"
        }
      ],
      "source": [
        "%%time\n",
        "dask_groupby = dask_df.groupby(['A', 'B']).agg({'C': 'sum'})\n",
        "dask_df.head()"
      ]
    },
    {
      "cell_type": "code",
      "execution_count": 16,
      "metadata": {},
      "outputs": [
        {
          "name": "stdout",
          "output_type": "stream",
          "text": [
            "CPU times: user 10.4 ms, sys: 23.9 ms, total: 34.2 ms\n",
            "Wall time: 34.8 ms\n"
          ]
        },
        {
          "data": {
            "text/plain": [
              "\u250c\u2500\u2500\u2500\u2500\u2500\u2500\u2500\u252c\u2500\u2500\u2500\u2500\u2500\u2500\u2500\u252c\u2500\u2500\u2500\u2500\u2500\u2500\u2500\u2500\u2510\n",
              "\u2502   A   \u2502   B   \u2502 sum(C) \u2502\n",
              "\u2502 int64 \u2502 int64 \u2502 int128 \u2502\n",
              "\u251c\u2500\u2500\u2500\u2500\u2500\u2500\u2500\u253c\u2500\u2500\u2500\u2500\u2500\u2500\u2500\u253c\u2500\u2500\u2500\u2500\u2500\u2500\u2500\u2500\u2524\n",
              "\u2502     0 \u2502     0 \u2502 100760 \u2502\n",
              "\u2502     0 \u2502     1 \u2502  96378 \u2502\n",
              "\u2502     0 \u2502     2 \u2502  98186 \u2502\n",
              "\u2502     0 \u2502     3 \u2502 100660 \u2502\n",
              "\u2502     0 \u2502     4 \u2502 101088 \u2502\n",
              "\u2502     0 \u2502     5 \u2502  99860 \u2502\n",
              "\u2502     0 \u2502     6 \u2502  92448 \u2502\n",
              "\u2502     0 \u2502     7 \u2502 104719 \u2502\n",
              "\u2502     0 \u2502     8 \u2502  97470 \u2502\n",
              "\u2502     0 \u2502     9 \u2502  99622 \u2502\n",
              "\u2502     \u00b7 \u2502     \u00b7 \u2502    \u00b7   \u2502\n",
              "\u2502     \u00b7 \u2502     \u00b7 \u2502    \u00b7   \u2502\n",
              "\u2502     \u00b7 \u2502     \u00b7 \u2502    \u00b7   \u2502\n",
              "\u2502    99 \u2502    90 \u2502  99002 \u2502\n",
              "\u2502    99 \u2502    91 \u2502  99224 \u2502\n",
              "\u2502    99 \u2502    92 \u2502  98911 \u2502\n",
              "\u2502    99 \u2502    93 \u2502  99956 \u2502\n",
              "\u2502    99 \u2502    94 \u2502 103089 \u2502\n",
              "\u2502    99 \u2502    95 \u2502 102644 \u2502\n",
              "\u2502    99 \u2502    96 \u2502  93856 \u2502\n",
              "\u2502    99 \u2502    97 \u2502  95969 \u2502\n",
              "\u2502    99 \u2502    98 \u2502  99628 \u2502\n",
              "\u2502    99 \u2502    99 \u2502  98471 \u2502\n",
              "\u251c\u2500\u2500\u2500\u2500\u2500\u2500\u2500\u2534\u2500\u2500\u2500\u2500\u2500\u2500\u2500\u2534\u2500\u2500\u2500\u2500\u2500\u2500\u2500\u2500\u2524\n",
              "\u2502 ? rows       3 columns \u2502\n",
              "\u2514\u2500\u2500\u2500\u2500\u2500\u2500\u2500\u2500\u2500\u2500\u2500\u2500\u2500\u2500\u2500\u2500\u2500\u2500\u2500\u2500\u2500\u2500\u2500\u2500\u2518"
            ]
          },
          "execution_count": 16,
          "metadata": {},
          "output_type": "execute_result"
        }
      ],
      "source": [
        "%%time\n",
        "duckdb.query(\"\"\"\n",
        "             SELECT A, B, SUM(C) FROM read_csv('dataset.csv')\n",
        "             group by A, B\n",
        "             order by A, B\n",
        "             \"\"\")"
      ]
    },
    {
      "cell_type": "code",
      "execution_count": 17,
      "metadata": {},
      "outputs": [
        {
          "name": "stdout",
          "output_type": "stream",
          "text": [
            "CPU times: user 3 \u03bcs, sys: 0 ns, total: 3 \u03bcs\n",
            "Wall time: 5.96 \u03bcs\n"
          ]
        }
      ],
      "source": [
        "%%time\n",
        "# crashing ....\n",
        "# merged_pandas = pd.merge(df, df)"
      ]
    },
    {
      "cell_type": "code",
      "execution_count": 18,
      "metadata": {},
      "outputs": [
        {
          "name": "stdout",
          "output_type": "stream",
          "text": [
            "CPU times: user 2 \u03bcs, sys: 0 ns, total: 2 \u03bcs\n",
            "Wall time: 4.05 \u03bcs\n"
          ]
        }
      ],
      "source": [
        "%%time\n",
        "# # crashing ....\n",
        "# merged_dask = dd.merge(dask_df, dask_df)\n",
        "# print(f\"Dask: shape = {merged_dask.compute().shape}\")"
      ]
    },
    {
      "cell_type": "code",
      "execution_count": 30,
      "metadata": {},
      "outputs": [
        {
          "name": "stdout",
          "output_type": "stream",
          "text": [
            "CPU times: user 179 ms, sys: 100 ms, total: 279 ms\n",
            "Wall time: 276 ms\n"
          ]
        },
        {
          "data": {
            "text/plain": [
              "pandas.core.series.Series"
            ]
          },
          "execution_count": 30,
          "metadata": {},
          "output_type": "execute_result"
        }
      ],
      "source": [
        "%%time\n",
        "selected_pandas = df[df['A'] > 60]\n",
        "# selected_pandas.shape\n",
        "selected_pandas.head()"
      ]
    },
    {
      "cell_type": "code",
      "execution_count": 20,
      "metadata": {},
      "outputs": [
        {
          "name": "stdout",
          "output_type": "stream",
          "text": [
            "CPU times: user 1.9 s, sys: 455 ms, total: 2.36 s\n",
            "Wall time: 1.26 s\n"
          ]
        },
        {
          "data": {
            "text/plain": [
              "(7802093, 3)"
            ]
          },
          "execution_count": 20,
          "metadata": {},
          "output_type": "execute_result"
        }
      ],
      "source": [
        "%%time\n",
        "selected_dask = dask_df[dask_df['A'] > 60]\n",
        "selected_dask.compute().shape"
      ]
    },
    {
      "cell_type": "code",
      "execution_count": 21,
      "metadata": {},
      "outputs": [
        {
          "name": "stdout",
          "output_type": "stream",
          "text": [
            "CPU times: user 6.61 ms, sys: 24.3 ms, total: 30.9 ms\n",
            "Wall time: 31.5 ms\n"
          ]
        },
        {
          "data": {
            "text/plain": [
              "\u250c\u2500\u2500\u2500\u2500\u2500\u2500\u2500\u2500\u2500\u2500\u2500\u2500\u2500\u2500\u2500\u2500\u252c\u2500\u2500\u2500\u2500\u2500\u2500\u2500\u2510\n",
              "\u2502       A        \u2502   B   \u2502\n",
              "\u2502     int64      \u2502 int64 \u2502\n",
              "\u251c\u2500\u2500\u2500\u2500\u2500\u2500\u2500\u2500\u2500\u2500\u2500\u2500\u2500\u2500\u2500\u2500\u253c\u2500\u2500\u2500\u2500\u2500\u2500\u2500\u2524\n",
              "\u2502             91 \u2502    22 \u2502\n",
              "\u2502             71 \u2502    77 \u2502\n",
              "\u2502             86 \u2502    12 \u2502\n",
              "\u2502             94 \u2502    57 \u2502\n",
              "\u2502             80 \u2502    41 \u2502\n",
              "\u2502             82 \u2502    70 \u2502\n",
              "\u2502             95 \u2502    51 \u2502\n",
              "\u2502             74 \u2502    92 \u2502\n",
              "\u2502             76 \u2502    32 \u2502\n",
              "\u2502             72 \u2502     7 \u2502\n",
              "\u2502              \u00b7 \u2502     \u00b7 \u2502\n",
              "\u2502              \u00b7 \u2502     \u00b7 \u2502\n",
              "\u2502              \u00b7 \u2502     \u00b7 \u2502\n",
              "\u2502             63 \u2502    29 \u2502\n",
              "\u2502             85 \u2502    68 \u2502\n",
              "\u2502             68 \u2502     2 \u2502\n",
              "\u2502             77 \u2502     7 \u2502\n",
              "\u2502             76 \u2502    66 \u2502\n",
              "\u2502             66 \u2502    17 \u2502\n",
              "\u2502             86 \u2502     7 \u2502\n",
              "\u2502             68 \u2502    72 \u2502\n",
              "\u2502             76 \u2502    70 \u2502\n",
              "\u2502             99 \u2502    88 \u2502\n",
              "\u251c\u2500\u2500\u2500\u2500\u2500\u2500\u2500\u2500\u2500\u2500\u2500\u2500\u2500\u2500\u2500\u2500\u2534\u2500\u2500\u2500\u2500\u2500\u2500\u2500\u2524\n",
              "\u2502 ? rows       2 columns \u2502\n",
              "\u2514\u2500\u2500\u2500\u2500\u2500\u2500\u2500\u2500\u2500\u2500\u2500\u2500\u2500\u2500\u2500\u2500\u2500\u2500\u2500\u2500\u2500\u2500\u2500\u2500\u2518"
            ]
          },
          "execution_count": 21,
          "metadata": {},
          "output_type": "execute_result"
        }
      ],
      "source": [
        "%%time\n",
        "duckdb.query(\"\"\"\n",
        "             SELECT A, B FROM read_csv('dataset.csv')\n",
        "             where A > 60\n",
        "             \"\"\")"
      ]
    },
    {
      "cell_type": "code",
      "execution_count": 22,
      "metadata": {},
      "outputs": [],
      "source": [
        "def my_function(x):\n",
        "    return x * 2"
      ]
    },
    {
      "cell_type": "code",
      "execution_count": 23,
      "metadata": {},
      "outputs": [
        {
          "name": "stdout",
          "output_type": "stream",
          "text": [
            "CPU times: user 4.59 s, sys: 172 ms, total: 4.76 s\n",
            "Wall time: 4.76 s\n"
          ]
        },
        {
          "data": {
            "text/plain": [
              "0    46\n",
              "1    70\n",
              "2     0\n",
              "3    94\n",
              "4    34\n",
              "Name: A, dtype: int64"
            ]
          },
          "execution_count": 23,
          "metadata": {},
          "output_type": "execute_result"
        }
      ],
      "source": [
        "%%time\n",
        "applied_pandas = df['A'].apply(my_function)\n",
        "applied_pandas.head()"
      ]
    },
    {
      "cell_type": "code",
      "execution_count": 24,
      "metadata": {},
      "outputs": [],
      "source": [
        "def calc_vec(narr, multiplier):\n",
        "    narr *= multiplier"
      ]
    },
    {
      "cell_type": "code",
      "execution_count": 25,
      "metadata": {},
      "outputs": [
        {
          "name": "stdout",
          "output_type": "stream",
          "text": [
            "CPU times: user 46.5 ms, sys: 20.2 ms, total: 66.8 ms\n",
            "Wall time: 66.3 ms\n"
          ]
        },
        {
          "data": {
            "text/html": [
              "<div>\n",
              "<style scoped>\n",
              "    .dataframe tbody tr th:only-of-type {\n",
              "        vertical-align: middle;\n",
              "    }\n",
              "\n",
              "    .dataframe tbody tr th {\n",
              "        vertical-align: top;\n",
              "    }\n",
              "\n",
              "    .dataframe thead th {\n",
              "        text-align: right;\n",
              "    }\n",
              "</style>\n",
              "<table border=\"1\" class=\"dataframe\">\n",
              "  <thead>\n",
              "    <tr style=\"text-align: right;\">\n",
              "      <th></th>\n",
              "      <th>A</th>\n",
              "      <th>B</th>\n",
              "      <th>C</th>\n",
              "    </tr>\n",
              "  </thead>\n",
              "  <tbody>\n",
              "    <tr>\n",
              "      <th>0</th>\n",
              "      <td>46</td>\n",
              "      <td>98</td>\n",
              "      <td>61</td>\n",
              "    </tr>\n",
              "    <tr>\n",
              "      <th>1</th>\n",
              "      <td>70</td>\n",
              "      <td>19</td>\n",
              "      <td>97</td>\n",
              "    </tr>\n",
              "    <tr>\n",
              "      <th>2</th>\n",
              "      <td>0</td>\n",
              "      <td>22</td>\n",
              "      <td>67</td>\n",
              "    </tr>\n",
              "    <tr>\n",
              "      <th>3</th>\n",
              "      <td>94</td>\n",
              "      <td>52</td>\n",
              "      <td>95</td>\n",
              "    </tr>\n",
              "    <tr>\n",
              "      <th>4</th>\n",
              "      <td>34</td>\n",
              "      <td>72</td>\n",
              "      <td>90</td>\n",
              "    </tr>\n",
              "  </tbody>\n",
              "</table>\n",
              "</div>"
            ],
            "text/plain": [
              "    A   B   C\n",
              "0  46  98  61\n",
              "1  70  19  97\n",
              "2   0  22  67\n",
              "3  94  52  95\n",
              "4  34  72  90"
            ]
          },
          "execution_count": 25,
          "metadata": {},
          "output_type": "execute_result"
        }
      ],
      "source": [
        "%%time\n",
        "# vectorize_pandas = (df['A'] * 2)\n",
        "# vectorize_pandas.head()\n",
        "calc_vec(df['A'], 2)\n",
        "df.head()"
      ]
    },
    {
      "cell_type": "code",
      "execution_count": 26,
      "metadata": {},
      "outputs": [
        {
          "name": "stderr",
          "output_type": "stream",
          "text": [
            "/media/zensei/My Passport/Zensei/Projects/Python/financial_data/.venv/lib/python3.11/site-packages/dask_expr/_collection.py:4165: UserWarning: \n",
            "You did not provide metadata, so Dask is running your function on a small dataset to guess output types. It is possible that Dask will guess incorrectly.\n",
            "To provide an explicit output types or to silence this message, please provide the `meta=` keyword, as described in the map or apply function that you are using.\n",
            "  Before: .apply(func)\n",
            "  After:  .apply(func, meta=('A', 'int64'))\n",
            "\n",
            "  warnings.warn(meta_warning(meta))\n"
          ]
        },
        {
          "name": "stdout",
          "output_type": "stream",
          "text": [
            "CPU times: user 586 ms, sys: 87.8 ms, total: 674 ms\n",
            "Wall time: 725 ms\n"
          ]
        },
        {
          "data": {
            "text/plain": [
              "0    46\n",
              "1    70\n",
              "2     0\n",
              "3    94\n",
              "4    34\n",
              "Name: A, dtype: int64"
            ]
          },
          "execution_count": 26,
          "metadata": {},
          "output_type": "execute_result"
        }
      ],
      "source": [
        "%%time\n",
        "applied_dask = dask_df['A'].map(my_function)\n",
        "applied_dask.head()"
      ]
    },
    {
      "cell_type": "code",
      "execution_count": 27,
      "metadata": {},
      "outputs": [
        {
          "name": "stdout",
          "output_type": "stream",
          "text": [
            "CPU times: user 7.44 ms, sys: 32.2 ms, total: 39.6 ms\n",
            "Wall time: 86.7 ms\n"
          ]
        },
        {
          "data": {
            "text/plain": [
              "\u250c\u2500\u2500\u2500\u2500\u2500\u2500\u2500\u2500\u2500\u2500\u2500\u2500\u2500\u2500\u2500\u2500\u2500\u2500\u2500\u2500\u2500\u2500\u2500\u2500\u2510\n",
              "\u2502       double_up        \u2502\n",
              "\u2502         int64          \u2502\n",
              "\u251c\u2500\u2500\u2500\u2500\u2500\u2500\u2500\u2500\u2500\u2500\u2500\u2500\u2500\u2500\u2500\u2500\u2500\u2500\u2500\u2500\u2500\u2500\u2500\u2500\u2524\n",
              "\u2502                     46 \u2502\n",
              "\u2502                     70 \u2502\n",
              "\u2502                      0 \u2502\n",
              "\u2502                     94 \u2502\n",
              "\u2502                     34 \u2502\n",
              "\u2502                    182 \u2502\n",
              "\u2502                     34 \u2502\n",
              "\u2502                     38 \u2502\n",
              "\u2502                    118 \u2502\n",
              "\u2502                    142 \u2502\n",
              "\u2502                     \u00b7  \u2502\n",
              "\u2502                     \u00b7  \u2502\n",
              "\u2502                     \u00b7  \u2502\n",
              "\u2502                    132 \u2502\n",
              "\u2502                    118 \u2502\n",
              "\u2502                      0 \u2502\n",
              "\u2502                     16 \u2502\n",
              "\u2502                    168 \u2502\n",
              "\u2502                     62 \u2502\n",
              "\u2502                    180 \u2502\n",
              "\u2502                    126 \u2502\n",
              "\u2502                     16 \u2502\n",
              "\u2502                    152 \u2502\n",
              "\u251c\u2500\u2500\u2500\u2500\u2500\u2500\u2500\u2500\u2500\u2500\u2500\u2500\u2500\u2500\u2500\u2500\u2500\u2500\u2500\u2500\u2500\u2500\u2500\u2500\u2524\n",
              "\u2502         ? rows         \u2502\n",
              "\u2502 (>9999 rows, 20 shown) \u2502\n",
              "\u2514\u2500\u2500\u2500\u2500\u2500\u2500\u2500\u2500\u2500\u2500\u2500\u2500\u2500\u2500\u2500\u2500\u2500\u2500\u2500\u2500\u2500\u2500\u2500\u2500\u2518"
            ]
          },
          "execution_count": 27,
          "metadata": {},
          "output_type": "execute_result"
        }
      ],
      "source": [
        "%%time\n",
        "duckdb.query(\"\"\"\n",
        "             SELECT A * 2 as double_up FROM read_csv('dataset.csv')\n",
        "             \"\"\")"
      ]
    }
  ],
  "metadata": {
    "kernelspec": {
      "display_name": ".venv",
      "language": "python",
      "name": "python3"
    },
    "language_info": {
      "codemirror_mode": {
        "name": "ipython",
        "version": 3
      },
      "file_extension": ".py",
      "mimetype": "text/x-python",
      "name": "python",
      "nbconvert_exporter": "python",
      "pygments_lexer": "ipython3",
      "version": "3.10.12"
    }
  },
  "nbformat": 4,
  "nbformat_minor": 2
}
